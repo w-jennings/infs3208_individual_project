{
 "cells": [
  {
   "cell_type": "markdown",
   "metadata": {},
   "source": [
    "### Data Exploration and Preprocessing\n",
    "\n",
    "#### Initialise Spark Session and Load Data from HDFS into Spark DataFrames"
   ]
  },
  {
   "cell_type": "code",
   "execution_count": 1,
   "metadata": {},
   "outputs": [],
   "source": [
    "from pyspark.sql import SparkSession\n",
    "\n",
    "spark = SparkSession.builder.appName(\"MovieLensAnalysis\").config(\"spark.executor.heartbeatInterval\", \"100s\").config(\"spark.network.timeout\", \"600s\").getOrCreate()\n",
    "\n",
    "movies_df = spark.read.csv(\"hdfs://namenode:9000/movies.csv\", header=True, inferSchema=True)\n",
    "ratings_df = spark.read.csv(\"hdfs://namenode:9000/ratings.csv\", header=True, inferSchema=True)\n",
    "tags_df = spark.read.csv(\"hdfs://namenode:9000/tags.csv\", header=True, inferSchema=True)\n",
    "links_df = spark.read.csv(\"hdfs://namenode:9000/links.csv\", header=True, inferSchema=True)"
   ]
  },
  {
   "cell_type": "markdown",
   "metadata": {},
   "source": [
    "#### Explore Data Schema and Sample Records"
   ]
  },
  {
   "cell_type": "code",
   "execution_count": 2,
   "metadata": {},
   "outputs": [
    {
     "name": "stdout",
     "output_type": "stream",
     "text": [
      "root\n",
      " |-- movieId: integer (nullable = true)\n",
      " |-- title: string (nullable = true)\n",
      " |-- genres: string (nullable = true)\n",
      "\n",
      "+-------+--------------------+--------------------+\n",
      "|movieId|               title|              genres|\n",
      "+-------+--------------------+--------------------+\n",
      "|      1|    Toy Story (1995)|Adventure|Animati...|\n",
      "|      2|      Jumanji (1995)|Adventure|Childre...|\n",
      "|      3|Grumpier Old Men ...|      Comedy|Romance|\n",
      "|      4|Waiting to Exhale...|Comedy|Drama|Romance|\n",
      "|      5|Father of the Bri...|              Comedy|\n",
      "+-------+--------------------+--------------------+\n",
      "only showing top 5 rows\n",
      "\n",
      "root\n",
      " |-- userId: integer (nullable = true)\n",
      " |-- movieId: integer (nullable = true)\n",
      " |-- rating: double (nullable = true)\n",
      " |-- timestamp: integer (nullable = true)\n",
      "\n",
      "+------+-------+------+---------+\n",
      "|userId|movieId|rating|timestamp|\n",
      "+------+-------+------+---------+\n",
      "|     1|      1|   4.0|964982703|\n",
      "|     1|      3|   4.0|964981247|\n",
      "|     1|      6|   4.0|964982224|\n",
      "|     1|     47|   5.0|964983815|\n",
      "|     1|     50|   5.0|964982931|\n",
      "+------+-------+------+---------+\n",
      "only showing top 5 rows\n",
      "\n",
      "root\n",
      " |-- userId: integer (nullable = true)\n",
      " |-- movieId: integer (nullable = true)\n",
      " |-- tag: string (nullable = true)\n",
      " |-- timestamp: integer (nullable = true)\n",
      "\n",
      "+------+-------+---------------+----------+\n",
      "|userId|movieId|            tag| timestamp|\n",
      "+------+-------+---------------+----------+\n",
      "|     2|  60756|          funny|1445714994|\n",
      "|     2|  60756|Highly quotable|1445714996|\n",
      "|     2|  60756|   will ferrell|1445714992|\n",
      "|     2|  89774|   Boxing story|1445715207|\n",
      "|     2|  89774|            MMA|1445715200|\n",
      "+------+-------+---------------+----------+\n",
      "only showing top 5 rows\n",
      "\n",
      "root\n",
      " |-- movieId: integer (nullable = true)\n",
      " |-- imdbId: integer (nullable = true)\n",
      " |-- tmdbId: integer (nullable = true)\n",
      "\n",
      "+-------+------+------+\n",
      "|movieId|imdbId|tmdbId|\n",
      "+-------+------+------+\n",
      "|      1|114709|   862|\n",
      "|      2|113497|  8844|\n",
      "|      3|113228| 15602|\n",
      "|      4|114885| 31357|\n",
      "|      5|113041| 11862|\n",
      "+-------+------+------+\n",
      "only showing top 5 rows\n",
      "\n"
     ]
    }
   ],
   "source": [
    "movies_df.printSchema()\n",
    "movies_df.show(5)\n",
    "\n",
    "ratings_df.printSchema()\n",
    "ratings_df.show(5)\n",
    "\n",
    "tags_df.printSchema()\n",
    "tags_df.show(5)\n",
    "\n",
    "links_df.printSchema()\n",
    "links_df.show(5)"
   ]
  },
  {
   "cell_type": "markdown",
   "metadata": {},
   "source": [
    "#### Handle Missing Values and Duplicates"
   ]
  },
  {
   "cell_type": "code",
   "execution_count": 3,
   "metadata": {},
   "outputs": [],
   "source": [
    "movies_df = movies_df.na.drop()\n",
    "ratings_df = ratings_df.na.drop()\n",
    "tags_df = tags_df.na.drop()\n",
    "links_df = links_df.na.drop()\n",
    "\n",
    "movies_df = movies_df.dropDuplicates()\n",
    "ratings_df = ratings_df.dropDuplicates()\n",
    "tags_df = tags_df.dropDuplicates()\n",
    "links_df = links_df.dropDuplicates()"
   ]
  },
  {
   "cell_type": "markdown",
   "metadata": {},
   "source": [
    "#### Split Genres into array"
   ]
  },
  {
   "cell_type": "code",
   "execution_count": 4,
   "metadata": {},
   "outputs": [],
   "source": [
    "from pyspark.sql.functions import split\n",
    "\n",
    "movies_df = movies_df.withColumn(\"genres_array\", split(movies_df[\"genres\"], \"\\\\|\"))"
   ]
  },
  {
   "cell_type": "markdown",
   "metadata": {},
   "source": [
    "### CRUD Operations\n",
    "#### Create"
   ]
  },
  {
   "cell_type": "code",
   "execution_count": 5,
   "metadata": {},
   "outputs": [
    {
     "name": "stdout",
     "output_type": "stream",
     "text": [
      "+-------+----------------+------------+---------------+\n",
      "|movieId|           title|      genres|   genres_array|\n",
      "+-------+----------------+------------+---------------+\n",
      "| 999999|New Movie (2024)|Sci-Fi|Drama|[Sci-Fi, Drama]|\n",
      "+-------+----------------+------------+---------------+\n",
      "\n"
     ]
    }
   ],
   "source": [
    "from pyspark.sql import Row\n",
    "from pyspark.sql.functions import split\n",
    "\n",
    "movies_df_copy = movies_df\n",
    "\n",
    "\n",
    "new_movie = Row(movieId=999999, title=\"New Movie (2024)\", genres=\"Sci-Fi|Drama\")\n",
    "\n",
    "\n",
    "new_movie_df = spark.createDataFrame([new_movie])\n",
    "new_movie_df = new_movie_df.withColumn(\"genres_array\", split(new_movie_df[\"genres\"], \"\\\\|\"))\n",
    "movies_df_copy = movies_df_copy.select(\"movieId\", \"title\", \"genres\").withColumn(\"genres_array\", split(movies_df_copy[\"genres\"], \"\\\\|\"))\n",
    "movies_df_copy = movies_df_copy.union(new_movie_df.select(\"movieId\", \"title\", \"genres\", \"genres_array\"))\n",
    "movies_df_copy.filter(movies_df_copy.movieId == 999999).show()"
   ]
  },
  {
   "cell_type": "markdown",
   "metadata": {},
   "source": [
    "#### Read"
   ]
  },
  {
   "cell_type": "code",
   "execution_count": 6,
   "metadata": {},
   "outputs": [
    {
     "name": "stdout",
     "output_type": "stream",
     "text": [
      "+-------------------------------------------------------------------------+-----------------------------------------+\n",
      "|title                                                                    |genres                                   |\n",
      "+-------------------------------------------------------------------------+-----------------------------------------+\n",
      "|Sword Art Online The Movie: Ordinal Scale (2017)                         |Action|Adventure|Animation|Fantasy|Sci-Fi|\n",
      "|Incredible Shrinking Woman, The (1981)                                   |Comedy|Sci-Fi                            |\n",
      "|Kid's Story (2003)                                                       |Animation|Sci-Fi                         |\n",
      "|Abominable Snowman, The (Abominable Snowman of the Himalayas, The) (1957)|Horror|Sci-Fi                            |\n",
      "|Highlander II: The Quickening (1991)                                     |Action|Sci-Fi                            |\n",
      "+-------------------------------------------------------------------------+-----------------------------------------+\n",
      "only showing top 5 rows\n",
      "\n"
     ]
    }
   ],
   "source": [
    "from pyspark.sql.functions import regexp_extract, col\n",
    "\n",
    "# filter movies by sci-fi genre\n",
    "sci_fi_movies = movies_df_copy.filter(\n",
    "    (movies_df.genres.contains(\"Sci-Fi\"))\n",
    ")\n",
    "\n",
    "# select and display the top 5 movies\n",
    "sci_fi_movies.select(\"title\", \"genres\").show(5, truncate=False)"
   ]
  },
  {
   "cell_type": "markdown",
   "metadata": {},
   "source": [
    "#### Update"
   ]
  },
  {
   "cell_type": "code",
   "execution_count": 7,
   "metadata": {},
   "outputs": [
    {
     "name": "stdout",
     "output_type": "stream",
     "text": [
      "+-------+----------------+---------------+\n",
      "|movieId|           title|         genres|\n",
      "+-------+----------------+---------------+\n",
      "| 999999|New Movie (2024)|Thriller|Action|\n",
      "+-------+----------------+---------------+\n",
      "\n"
     ]
    }
   ],
   "source": [
    "from pyspark.sql.functions import when\n",
    "\n",
    "# update the genres for the movie with movieId = 999999 (one I created ealier)\n",
    "movies_df_copy = movies_df_copy.withColumn(\n",
    "    \"genres\",\n",
    "    when(movies_df_copy.movieId == 999999, \"Thriller|Action\").otherwise(movies_df_copy.genres)\n",
    ")\n",
    "\n",
    "# Verify the update\n",
    "movies_df_copy.filter(movies_df_copy.movieId == 999999).select(\"movieId\", \"title\", \"genres\").show()"
   ]
  },
  {
   "cell_type": "markdown",
   "metadata": {},
   "source": [
    "#### Delete"
   ]
  },
  {
   "cell_type": "code",
   "execution_count": 8,
   "metadata": {},
   "outputs": [],
   "source": [
    "from pyspark.sql.functions import regexp_extract\n",
    "\n",
    "movies_df_copy = movies_df_copy.withColumn(\"year\", regexp_extract(movies_df_copy[\"title\"], r\"\\((\\d{4})\\)\", 1))\n",
    "movies_df_copy = movies_df_copy.filter(movies_df_copy.year != \"2020\")\n",
    "\n",
    "movies_df_copy.write.mode(\"overwrite\").parquet(\"hdfs://namenode:9000/movies_df_copy\")"
   ]
  },
  {
   "cell_type": "markdown",
   "metadata": {},
   "source": [
    "### Complex Big Data Queries Using Spark SQL"
   ]
  },
  {
   "cell_type": "code",
   "execution_count": 9,
   "metadata": {},
   "outputs": [],
   "source": [
    "movies_df.createOrReplaceTempView(\"movies\")\n",
    "ratings_df.createOrReplaceTempView(\"ratings\")\n",
    "tags_df.createOrReplaceTempView(\"tags\")\n",
    "links_df.createOrReplaceTempView(\"links\")"
   ]
  },
  {
   "cell_type": "markdown",
   "metadata": {},
   "source": [
    "#### Query 1: Top Tags Associated with High-Rated Movies"
   ]
  },
  {
   "cell_type": "code",
   "execution_count": 10,
   "metadata": {},
   "outputs": [
    {
     "data": {
      "image/png": "[encoded data removed]",
      "text/plain": [
       "<Figure size 432x288 with 1 Axes>"
      ]
     },
     "metadata": {
      "needs_background": "light"
     },
     "output_type": "display_data"
    }
   ],
   "source": [
    "import matplotlib.pyplot as plt\n",
    "top_tags = spark.sql(\"\"\"\n",
    "SELECT\n",
    "    t.tag,\n",
    "    COUNT(*) AS tag_count\n",
    "FROM tags t\n",
    "JOIN (\n",
    "    SELECT\n",
    "        movieId,\n",
    "        AVG(rating) AS avg_rating\n",
    "    FROM ratings\n",
    "    GROUP BY movieId\n",
    "    HAVING avg_rating > 4.5\n",
    ") high_rated_movies ON t.movieId = high_rated_movies.movieId\n",
    "GROUP BY t.tag\n",
    "ORDER BY tag_count DESC\n",
    "LIMIT 10\n",
    "\"\"\")\n",
    "\n",
    "top_tags_pd = top_tags.toPandas()\n",
    "plt.barh(top_tags_pd['tag'], top_tags_pd['tag_count'])\n",
    "plt.xlabel('Tag Count')\n",
    "plt.ylabel('Tag')\n",
    "plt.title('Top Tags for High-Rated Movies')\n",
    "plt.gca().invert_yaxis()\n",
    "plt.show()"
   ]
  },
  {
   "cell_type": "markdown",
   "metadata": {},
   "source": [
    "#### Query 2: Top Genres by Average Rating"
   ]
  },
  {
   "cell_type": "code",
   "execution_count": 11,
   "metadata": {},
   "outputs": [
    {
     "data": {
      "image/png": "[encoded data removed]",
      "text/plain": [
       "<Figure size 432x288 with 1 Axes>"
      ]
     },
     "metadata": {
      "needs_background": "light"
     },
     "output_type": "display_data"
    }
   ],
   "source": [
    "top_genres = spark.sql(\"\"\"\n",
    "SELECT\n",
    "    genre,\n",
    "    AVG(avg_rating) AS avg_genre_rating\n",
    "FROM (\n",
    "    SELECT\n",
    "        genre,\n",
    "        AVG(r.rating) AS avg_rating\n",
    "    FROM movies m\n",
    "    JOIN ratings r ON m.movieId = r.movieId\n",
    "    LATERAL VIEW explode(m.genres_array) AS genre\n",
    "    GROUP BY genre\n",
    ") tmp\n",
    "GROUP BY genre\n",
    "ORDER BY avg_genre_rating DESC\n",
    "LIMIT 5\n",
    "\"\"\")\n",
    "\n",
    "top_genres_pd = top_genres.toPandas()\n",
    "plt.bar(top_genres_pd['genre'], top_genres_pd['avg_genre_rating'])\n",
    "plt.xlabel('Genre')\n",
    "plt.ylabel('Average Rating')\n",
    "plt.title('Top 5 Genres by Average Rating')\n",
    "plt.show()"
   ]
  },
  {
   "cell_type": "markdown",
   "metadata": {},
   "source": [
    "####  Query 3: Correlation Between Movie Popularity and Average Rating"
   ]
  },
  {
   "cell_type": "code",
   "execution_count": 12,
   "metadata": {},
   "outputs": [
    {
     "data": {
      "image/png": "[encoded data removed]",
      "text/plain": [
       "<Figure size 432x288 with 1 Axes>"
      ]
     },
     "metadata": {
      "needs_background": "light"
     },
     "output_type": "display_data"
    }
   ],
   "source": [
    "popularity_vs_rating = spark.sql(\"\"\"\n",
    "SELECT\n",
    "    m.movieId,\n",
    "    m.title,\n",
    "    COUNT(r.rating) AS num_ratings,\n",
    "    AVG(r.rating) AS avg_rating\n",
    "FROM movies m\n",
    "JOIN ratings r ON m.movieId = r.movieId\n",
    "GROUP BY m.movieId, m.title\n",
    "HAVING COUNT(r.rating) > 100\n",
    "ORDER BY num_ratings DESC\n",
    "\"\"\")\n",
    "\n",
    "popularity_vs_rating_pd = popularity_vs_rating.toPandas()\n",
    "plt.scatter(popularity_vs_rating_pd['num_ratings'], popularity_vs_rating_pd['avg_rating'])\n",
    "plt.xlabel('Number of Ratings')\n",
    "plt.ylabel('Average Rating')\n",
    "plt.title('Movie Popularity vs. Average Rating')\n",
    "plt.show()"
   ]
  },
  {
   "cell_type": "markdown",
   "metadata": {},
   "source": [
    "#### Query 4: Most Active Users and the Movies They Rated the Most"
   ]
  },
  {
   "cell_type": "code",
   "execution_count": 13,
   "metadata": {},
   "outputs": [
    {
     "data": {
      "image/png": "[encoded data removed]",
      "text/plain": [
       "<Figure size 720x432 with 1 Axes>"
      ]
     },
     "metadata": {
      "needs_background": "light"
     },
     "output_type": "display_data"
    }
   ],
   "source": [
    "most_active_users_avg = spark.sql(\"\"\"\n",
    "SELECT\n",
    "    r.userId,\n",
    "    COUNT(r.movieId) AS movie_count,\n",
    "    AVG(r.rating) AS avg_rating\n",
    "FROM ratings r\n",
    "JOIN movies m ON r.movieId = m.movieId\n",
    "GROUP BY r.userId\n",
    "ORDER BY movie_count DESC\n",
    "LIMIT 10\n",
    "\"\"\")\n",
    "\n",
    "import matplotlib.pyplot as plt\n",
    "\n",
    "most_active_users_avg_pd = most_active_users_avg.toPandas()\n",
    "plt.figure(figsize=(10,6))\n",
    "plt.barh(most_active_users_avg_pd['userId'].astype(str), \n",
    "         most_active_users_avg_pd['avg_rating'])\n",
    "plt.xlabel('Average Rating')\n",
    "plt.ylabel('User ID')\n",
    "plt.title('Average Rating Given by Top 10 Most Active Users')\n",
    "plt.gca().invert_yaxis()\n",
    "plt.show()"
   ]
  },
  {
   "cell_type": "code",
   "execution_count": null,
   "metadata": {},
   "outputs": [],
   "source": []
  }
 ],
 "metadata": {
  "kernelspec": {
   "display_name": "Python 3",
   "language": "python",
   "name": "python3"
  },
  "language_info": {
   "codemirror_mode": {
    "name": "ipython",
    "version": 3
   },
   "file_extension": ".py",
   "mimetype": "text/x-python",
   "name": "python",
   "nbconvert_exporter": "python",
   "pygments_lexer": "ipython3",
   "version": "3.8.6"
  }
 },
 "nbformat": 4,
 "nbformat_minor": 4
}
